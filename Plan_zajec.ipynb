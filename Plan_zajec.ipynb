{
  "nbformat": 4,
  "nbformat_minor": 0,
  "metadata": {
    "colab": {
      "provenance": [],
      "authorship_tag": "ABX9TyOPHwgezjqCe+wZfBMafNde",
      "include_colab_link": true
    },
    "kernelspec": {
      "name": "python3",
      "display_name": "Python 3"
    },
    "language_info": {
      "name": "python"
    }
  },
  "cells": [
    {
      "cell_type": "markdown",
      "metadata": {
        "id": "view-in-github",
        "colab_type": "text"
      },
      "source": [
        "<a href=\"https://colab.research.google.com/github/michalcie4/ProjektUSWB/blob/main/Plan_zajec.ipynb\" target=\"_parent\"><img src=\"https://colab.research.google.com/assets/colab-badge.svg\" alt=\"Open In Colab\"/></a>"
      ]
    },
    {
      "cell_type": "code",
      "execution_count": 1,
      "metadata": {
        "id": "40uQ_pzgH2CK"
      },
      "outputs": [],
      "source": [
        "godziny=[]\n",
        "poniedzialek=[]\n",
        "wtorek=[]\n",
        "sroda=[]\n",
        "czwartek=[]\n",
        "piatek=[]"
      ]
    },
    {
      "cell_type": "code",
      "source": [
        "godziny.append(\"8:00-8:45\")\n",
        "godziny.append(\"8:50-9:35\")\n",
        "godziny.append(\"9:40-10:25\")\n",
        "godziny.append(\"10:40-11:25\")\n",
        "godziny.append(\"11:30-12:15\")\n",
        "godziny.append(\"12:20-13:25\")\n",
        "godziny.append(\"13:30-14:15\")"
      ],
      "metadata": {
        "id": "UU5M01xFKJfu"
      },
      "execution_count": 7,
      "outputs": []
    },
    {
      "cell_type": "code",
      "source": [
        "poniedzialek.append(\" - \")\n",
        "poniedzialek.append(\" - \")\n",
        "poniedzialek.append(\"matematyka\")\n",
        "poniedzialek.append(\"język polski\")\n",
        "poniedzialek.append(\"język angielski\")\n",
        "poniedzialek.append(\"wf\")\n",
        "poniedzialek.append(\" - \")"
      ],
      "metadata": {
        "id": "BHjAo3ktLMu5"
      },
      "execution_count": 8,
      "outputs": []
    },
    {
      "cell_type": "code",
      "source": [
        "wtorek.append(\"przyroda\")\n",
        "wtorek.append(\"religia\")\n",
        "wtorek.append(\"muzyka\")\n",
        "wtorek.append(\"matematyka\")\n",
        "wtorek.append(\"język polski\")\n",
        "wtorek.append(\" - \")\n",
        "wtorek.append(\" - \")"
      ],
      "metadata": {
        "id": "zPXLypK9L37q"
      },
      "execution_count": 10,
      "outputs": []
    },
    {
      "cell_type": "code",
      "source": [
        "sroda.append(\" - \")\n",
        "sroda.append(\"informatyka\")\n",
        "sroda.append(\"plastyka\")\n",
        "sroda.append(\"matematyka\")\n",
        "sroda.append(\"język polski\")\n",
        "sroda.append(\" - \")\n",
        "sroda.append(\" - \")"
      ],
      "metadata": {
        "id": "gpESoQ3qMWzb"
      },
      "execution_count": 11,
      "outputs": []
    },
    {
      "cell_type": "code",
      "source": [
        "czwartek.append(\" - \")\n",
        "czwartek.append(\"język angielski\")\n",
        "czwartek.append(\"religia\")\n",
        "czwartek.append(\"matematyka\")\n",
        "czwartek.append(\"język polski\")\n",
        "czwartek.append(\" wf \")\n",
        "czwartek.append(\" - \")"
      ],
      "metadata": {
        "id": "Xeyb0oIdM8sh"
      },
      "execution_count": 12,
      "outputs": []
    },
    {
      "cell_type": "code",
      "source": [
        "piatek.append(\" - \")\n",
        "piatek.append(\"informatyka\")\n",
        "piatek.append(\"język polski\")\n",
        "piatek.append(\"matematyka\")\n",
        "piatek.append(\"przyroda\")\n",
        "piatek.append(\" - \")\n",
        "piatek.append(\" - \")"
      ],
      "metadata": {
        "id": "smhPXD_LM8mY"
      },
      "execution_count": 13,
      "outputs": []
    }
  ]
}