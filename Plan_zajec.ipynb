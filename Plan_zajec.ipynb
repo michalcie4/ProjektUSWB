{
  "nbformat": 4,
  "nbformat_minor": 0,
  "metadata": {
    "colab": {
      "provenance": [],
      "authorship_tag": "ABX9TyOvyZAoorJvQcZlWb2x8WTb",
      "include_colab_link": true
    },
    "kernelspec": {
      "name": "python3",
      "display_name": "Python 3"
    },
    "language_info": {
      "name": "python"
    }
  },
  "cells": [
    {
      "cell_type": "markdown",
      "metadata": {
        "id": "view-in-github",
        "colab_type": "text"
      },
      "source": [
        "<a href=\"https://colab.research.google.com/github/michalcie4/ProjektUSWB/blob/main/Plan_zajec.ipynb\" target=\"_parent\"><img src=\"https://colab.research.google.com/assets/colab-badge.svg\" alt=\"Open In Colab\"/></a>"
      ]
    },
    {
      "cell_type": "code",
      "source": [
        "import pandas as pd\n"
      ],
      "metadata": {
        "id": "7qHhQXqyOc99"
      },
      "execution_count": 1,
      "outputs": []
    },
    {
      "cell_type": "code",
      "source": [
        "plan_lekcji = {\n",
        "    \"Poniedziałek\":[\" - \",\" - \",\"matematyka\",\"język polski\",\"język angielski\",\"wf\",\" - \"],\n",
        "    \"Wtorek\":[\"przyroda\",\"religia\",\"muzyka\",\"matematyka\",\"język polski\",\" - \",\" - \"],\n",
        "    \"Środa\":[\" - \",\"informatyka\",\"plastyka\",\"matematyka\",\"język polski\",\" - \",\" - \"],\n",
        "    \"Czwartek\":[\" - \",\"język angielski\",\"religia\",\"matematyka\",\"język polski\",\" wf \",\" - \"],\n",
        "    \"Piątek\":[\" - \",\"informatyka\",\"język polski\",\"matematyka\",\"przyroda\",\" - \",\" - \"]\n",
        "}\n",
        "PlanDF =pd.DataFrame(plan_lekcji, index = [\"8:00-8:45\",\"8:50-9:35\",\"9:40-10:25\",\"10:40-11:25\",\"11:30-12:15\",\"12:20-13:25\",\"13:30-14:15\"])"
      ],
      "metadata": {
        "id": "ttCyoI32QsOa"
      },
      "execution_count": 2,
      "outputs": []
    },
    {
      "cell_type": "code",
      "source": [
        "print(PlanDF)"
      ],
      "metadata": {
        "colab": {
          "base_uri": "https://localhost:8080/"
        },
        "id": "iNipprtzN4cR",
        "outputId": "3449922e-2990-4b0f-b3fc-409aab51729c"
      },
      "execution_count": 3,
      "outputs": [
        {
          "output_type": "stream",
          "name": "stdout",
          "text": [
            "                Poniedziałek        Wtorek         Środa         Czwartek  \\\n",
            "8:00-8:45                 -       przyroda            -                -    \n",
            "8:50-9:35                 -        religia   informatyka  język angielski   \n",
            "9:40-10:25        matematyka        muzyka      plastyka          religia   \n",
            "10:40-11:25     język polski    matematyka    matematyka       matematyka   \n",
            "11:30-12:15  język angielski  język polski  język polski     język polski   \n",
            "12:20-13:25               wf            -             -               wf    \n",
            "13:30-14:15               -             -             -                -    \n",
            "\n",
            "                   Piątek  \n",
            "8:00-8:45              -   \n",
            "8:50-9:35     informatyka  \n",
            "9:40-10:25   język polski  \n",
            "10:40-11:25    matematyka  \n",
            "11:30-12:15      przyroda  \n",
            "12:20-13:25            -   \n",
            "13:30-14:15            -   \n"
          ]
        }
      ]
    },
    {
      "cell_type": "code",
      "source": [
        "print(PlanDF.loc[\"8:00-8:45\"])\n"
      ],
      "metadata": {
        "id": "aoOTosNaWQz6",
        "colab": {
          "base_uri": "https://localhost:8080/"
        },
        "outputId": "0e1d2341-8fa2-4ff0-aea4-4abcd5525a91"
      },
      "execution_count": 7,
      "outputs": [
        {
          "output_type": "stream",
          "name": "stdout",
          "text": [
            "Poniedziałek          - \n",
            "Wtorek          przyroda\n",
            "Środa                 - \n",
            "Czwartek              - \n",
            "Piątek                - \n",
            "Name: 8:00-8:45, dtype: object\n"
          ]
        }
      ]
    },
    {
      "cell_type": "code",
      "source": [
        "print(PlanDF['Poniedziałek'])"
      ],
      "metadata": {
        "colab": {
          "base_uri": "https://localhost:8080/"
        },
        "id": "GpuC8UTnVMYW",
        "outputId": "e1a167b8-821f-4ce4-ba47-8806bd4f246a"
      },
      "execution_count": 8,
      "outputs": [
        {
          "output_type": "stream",
          "name": "stdout",
          "text": [
            "8:00-8:45                   - \n",
            "8:50-9:35                   - \n",
            "9:40-10:25          matematyka\n",
            "10:40-11:25       język polski\n",
            "11:30-12:15    język angielski\n",
            "12:20-13:25                 wf\n",
            "13:30-14:15                 - \n",
            "Name: Poniedziałek, dtype: object\n"
          ]
        }
      ]
    },
    {
      "cell_type": "code",
      "source": [
        "PlanDF.at['8:00-8:45','Poniedziałek']=\"Fizyka\""
      ],
      "metadata": {
        "id": "kIa1wfHmgyvn"
      },
      "execution_count": 14,
      "outputs": []
    },
    {
      "cell_type": "code",
      "source": [
        "print(PlanDF['Poniedziałek'])"
      ],
      "metadata": {
        "colab": {
          "base_uri": "https://localhost:8080/"
        },
        "id": "lO6HL45Kh7nO",
        "outputId": "da3b2533-5710-429a-c8b5-5ecda6009dbf"
      },
      "execution_count": 15,
      "outputs": [
        {
          "output_type": "stream",
          "name": "stdout",
          "text": [
            "8:00-8:45               Fizyka\n",
            "8:50-9:35                   - \n",
            "9:40-10:25          matematyka\n",
            "10:40-11:25       język polski\n",
            "11:30-12:15    język angielski\n",
            "12:20-13:25                 wf\n",
            "13:30-14:15                 - \n",
            "Name: Poniedziałek, dtype: object\n"
          ]
        }
      ]
    }
  ]
}